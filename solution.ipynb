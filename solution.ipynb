{
 "cells": [
  {
   "cell_type": "code",
   "execution_count": 68,
   "id": "b990e8be",
   "metadata": {},
   "outputs": [],
   "source": [
    "import pandas as pd\n",
    "import matplotlib.pyplot as plt\n"
   ]
  },
  {
   "cell_type": "markdown",
   "id": "d0c23d32",
   "metadata": {},
   "source": [
    "### Шаг 1. Загружаем данные\n",
    "Читаем TSV без заголовков, задаём имена колонок: `query`, `ts`, `platform`."
   ]
  },
  {
   "cell_type": "code",
   "execution_count": 69,
   "id": "9676ddc0",
   "metadata": {},
   "outputs": [],
   "source": [
    "df = pd.read_csv('/Users/delalore/Desktop/яндекс/data/data.tsv', sep='\\t', header=None,names=[\"query\",\"ts\",\"platform\"], low_memory=False)"
   ]
  },
  {
   "cell_type": "code",
   "execution_count": 70,
   "id": "c8d2acb5",
   "metadata": {},
   "outputs": [
    {
     "name": "stdout",
     "output_type": "stream",
     "text": [
      "Строк: 1,203,824, Колонки: ['query', 'ts', 'platform']\n"
     ]
    },
    {
     "data": {
      "text/html": [
       "<div>\n",
       "<style scoped>\n",
       "    .dataframe tbody tr th:only-of-type {\n",
       "        vertical-align: middle;\n",
       "    }\n",
       "\n",
       "    .dataframe tbody tr th {\n",
       "        vertical-align: top;\n",
       "    }\n",
       "\n",
       "    .dataframe thead th {\n",
       "        text-align: right;\n",
       "    }\n",
       "</style>\n",
       "<table border=\"1\" class=\"dataframe\">\n",
       "  <thead>\n",
       "    <tr style=\"text-align: right;\">\n",
       "      <th></th>\n",
       "      <th>query</th>\n",
       "      <th>ts</th>\n",
       "      <th>platform</th>\n",
       "    </tr>\n",
       "  </thead>\n",
       "  <tbody>\n",
       "    <tr>\n",
       "      <th>0</th>\n",
       "      <td>порно фото</td>\n",
       "      <td>1631786697</td>\n",
       "      <td>touch</td>\n",
       "    </tr>\n",
       "    <tr>\n",
       "      <th>1</th>\n",
       "      <td>малевич картины</td>\n",
       "      <td>1631806465</td>\n",
       "      <td>desktop</td>\n",
       "    </tr>\n",
       "    <tr>\n",
       "      <th>2</th>\n",
       "      <td>Секс</td>\n",
       "      <td>1631781583</td>\n",
       "      <td>touch</td>\n",
       "    </tr>\n",
       "    <tr>\n",
       "      <th>3</th>\n",
       "      <td>с днём рождения лена</td>\n",
       "      <td>1631771563</td>\n",
       "      <td>touch</td>\n",
       "    </tr>\n",
       "    <tr>\n",
       "      <th>4</th>\n",
       "      <td>зверополис порно</td>\n",
       "      <td>1631787599</td>\n",
       "      <td>touch</td>\n",
       "    </tr>\n",
       "  </tbody>\n",
       "</table>\n",
       "</div>"
      ],
      "text/plain": [
       "                  query          ts platform\n",
       "0            порно фото  1631786697    touch\n",
       "1       малевич картины  1631806465  desktop\n",
       "2                  Секс  1631781583    touch\n",
       "3  с днём рождения лена  1631771563    touch\n",
       "4      зверополис порно  1631787599    touch"
      ]
     },
     "execution_count": 70,
     "metadata": {},
     "output_type": "execute_result"
    }
   ],
   "source": [
    "print(f\"Строк: {len(df):,}, Колонки: {df.columns.tolist()}\")\n",
    "df.head()"
   ]
  },
  {
   "cell_type": "markdown",
   "id": "f65bd6e3",
   "metadata": {},
   "source": [
    "### Шаг 2. Подготавливаем данные\n",
    "- переводим `ts` в дату и час  \n",
    "- нормализуем платформу (desktop/touch)  \n",
    "- приводим текст запроса к нижнему регистру"
   ]
  },
  {
   "cell_type": "code",
   "execution_count": 71,
   "id": "a4d8f15c",
   "metadata": {},
   "outputs": [
    {
     "data": {
      "text/plain": [
       "query       object\n",
       "ts           int64\n",
       "platform    object\n",
       "dtype: object"
      ]
     },
     "execution_count": 71,
     "metadata": {},
     "output_type": "execute_result"
    }
   ],
   "source": [
    "df.dtypes"
   ]
  },
  {
   "cell_type": "code",
   "execution_count": 72,
   "id": "1a07876f",
   "metadata": {},
   "outputs": [],
   "source": [
    "ts_num = pd.to_numeric(df['ts'], errors='coerce')\n",
    "dt = pd.to_datetime(ts_num, unit='s', errors='coerce', utc=True)\n",
    "df[\"_dt\"] = dt.dt.tz_convert(None)\n",
    "df[\"_date\"] = df[\"_dt\"].dt.date\n",
    "df[\"_hour\"] = df[\"_dt\"].dt.hour"
   ]
  },
  {
   "cell_type": "code",
   "execution_count": 73,
   "id": "017e0cb8",
   "metadata": {},
   "outputs": [],
   "source": [
    "df[\"_query\"] = df[\"query\"].astype(str).str.strip()\n",
    "df[\"_query_lc\"] = df[\"_query\"].str.lower()"
   ]
  },
  {
   "cell_type": "code",
   "execution_count": 74,
   "id": "ba4aad42",
   "metadata": {},
   "outputs": [
    {
     "data": {
      "text/plain": [
       "platform\n",
       "touch      792258\n",
       "desktop    411566\n",
       "Name: count, dtype: int64"
      ]
     },
     "execution_count": 74,
     "metadata": {},
     "output_type": "execute_result"
    }
   ],
   "source": [
    "df[\"platform\"].value_counts()"
   ]
  },
  {
   "cell_type": "markdown",
   "id": "bc2c5ab2",
   "metadata": {},
   "source": [
    "### Шаг 3. Диапазон дат\n",
    "Определяем минимальную и максимальную дату в данных.\n"
   ]
  },
  {
   "cell_type": "code",
   "execution_count": 75,
   "id": "c6d0999d",
   "metadata": {},
   "outputs": [
    {
     "name": "stdout",
     "output_type": "stream",
     "text": [
      "Диапазон дат: 2021-08-31 00:00:00 — 2021-09-21 00:00:00\n"
     ]
    }
   ],
   "source": [
    "date_min = pd.to_datetime(df[\"_date\"]).min()\n",
    "date_max = pd.to_datetime(df[\"_date\"]).max()\n",
    "print(\"Диапазон дат:\", date_min, \"—\", date_max)"
   ]
  },
  {
   "cell_type": "markdown",
   "id": "2a2f6e6d",
   "metadata": {},
   "source": [
    "### Шаг 4. Считаем количество запросов с «ютуб»\n",
    "Делаем фильтр и считаем отдельно для desktop и touch."
   ]
  },
  {
   "cell_type": "code",
   "execution_count": 76,
   "id": "aede35d1",
   "metadata": {},
   "outputs": [
    {
     "data": {
      "text/plain": [
       "platform\n",
       "desktop    806\n",
       "touch      732\n",
       "dtype: int64"
      ]
     },
     "execution_count": 76,
     "metadata": {},
     "output_type": "execute_result"
    }
   ],
   "source": [
    "mask_youtube = df[\"_query_lc\"].str.contains(\"ютуб\", na=False)\n",
    "yt_counts = df[mask_youtube].groupby(\"platform\").size().reindex([\"desktop\",\"touch\"]).fillna(0).astype(int)\n",
    "yt_counts"
   ]
  },
  {
   "cell_type": "markdown",
   "id": "128a90cb",
   "metadata": {},
   "source": [
    "### Шаг 5. ТОП-10 запросов\n",
    "Собираем самые частые запросы для desktop и touch, сравниваем.\n"
   ]
  },
  {
   "cell_type": "code",
   "execution_count": 77,
   "id": "33147613",
   "metadata": {},
   "outputs": [
    {
     "name": "stdout",
     "output_type": "stream",
     "text": [
      "TOP DESKTOP:\n",
      "                              query  count\n",
      "0                   календарь 2021   2804\n",
      "1               таблица менделеева   2631\n",
      "2                         картинки   1647\n",
      "3                            порно   1342\n",
      "4               английский алфавит   1293\n",
      "5             обои на рабочий стол   1143\n",
      "6  Одноклассники (социальная сеть)   1116\n",
      "7                             секс    895\n",
      "8                таблица квадратов    877\n",
      "9                          алфавит    874\n",
      "\n",
      "TOP TOUCH:\n",
      "                      query  count\n",
      "0                    порно   7740\n",
      "1                     секс   6348\n",
      "2  с днём рождения женщине   4903\n",
      "3          с днём рождения   3967\n",
      "4  с днём рождения мужчине   3623\n",
      "5                   хентай   3157\n",
      "6          с днем рождения   3005\n",
      "7                      xxx   2429\n",
      "8                    Порно   2330\n",
      "9           календарь 2021   2237\n"
     ]
    }
   ],
   "source": [
    "topN = 10\n",
    "\n",
    "top_desktop = (df[df[\"platform\"]==\"desktop\"][\"_query\"]\n",
    "               .value_counts().head(topN).reset_index())\n",
    "top_desktop.columns = [\"query\",\"count\"]\n",
    "\n",
    "top_touch = (df[df[\"platform\"]==\"touch\"][\"_query\"]\n",
    "             .value_counts().head(topN).reset_index())\n",
    "top_touch.columns = [\"query\",\"count\"]\n",
    "\n",
    "print(\"TOP DESKTOP:\\n\", top_desktop)\n",
    "print(\"\\nTOP TOUCH:\\n\", top_touch)"
   ]
  },
  {
   "cell_type": "markdown",
   "id": "6a0fe942",
   "metadata": {},
   "source": [
    "### Шаг 6. Почасовой трафик\n",
    "Считаем количество запросов по часам и строим график.\n"
   ]
  },
  {
   "cell_type": "code",
   "execution_count": 78,
   "id": "81af85b7",
   "metadata": {},
   "outputs": [
    {
     "data": {
      "image/png": "[encoded data removed]",
      "text/plain": [
       "<Figure size 1000x500 with 1 Axes>"
      ]
     },
     "metadata": {},
     "output_type": "display_data"
    },
    {
     "data": {
      "text/html": [
       "<div>\n",
       "<style scoped>\n",
       "    .dataframe tbody tr th:only-of-type {\n",
       "        vertical-align: middle;\n",
       "    }\n",
       "\n",
       "    .dataframe tbody tr th {\n",
       "        vertical-align: top;\n",
       "    }\n",
       "\n",
       "    .dataframe thead th {\n",
       "        text-align: right;\n",
       "    }\n",
       "</style>\n",
       "<table border=\"1\" class=\"dataframe\">\n",
       "  <thead>\n",
       "    <tr style=\"text-align: right;\">\n",
       "      <th>platform</th>\n",
       "      <th>desktop</th>\n",
       "      <th>touch</th>\n",
       "    </tr>\n",
       "    <tr>\n",
       "      <th>_hour</th>\n",
       "      <th></th>\n",
       "      <th></th>\n",
       "    </tr>\n",
       "  </thead>\n",
       "  <tbody>\n",
       "    <tr>\n",
       "      <th>0</th>\n",
       "      <td>2396</td>\n",
       "      <td>7622</td>\n",
       "    </tr>\n",
       "    <tr>\n",
       "      <th>1</th>\n",
       "      <td>3023</td>\n",
       "      <td>9617</td>\n",
       "    </tr>\n",
       "    <tr>\n",
       "      <th>2</th>\n",
       "      <td>4224</td>\n",
       "      <td>13298</td>\n",
       "    </tr>\n",
       "    <tr>\n",
       "      <th>3</th>\n",
       "      <td>6510</td>\n",
       "      <td>21406</td>\n",
       "    </tr>\n",
       "    <tr>\n",
       "      <th>4</th>\n",
       "      <td>9863</td>\n",
       "      <td>30916</td>\n",
       "    </tr>\n",
       "    <tr>\n",
       "      <th>5</th>\n",
       "      <td>14674</td>\n",
       "      <td>43227</td>\n",
       "    </tr>\n",
       "    <tr>\n",
       "      <th>6</th>\n",
       "      <td>19423</td>\n",
       "      <td>46113</td>\n",
       "    </tr>\n",
       "    <tr>\n",
       "      <th>7</th>\n",
       "      <td>21791</td>\n",
       "      <td>46573</td>\n",
       "    </tr>\n",
       "    <tr>\n",
       "      <th>8</th>\n",
       "      <td>23314</td>\n",
       "      <td>40285</td>\n",
       "    </tr>\n",
       "    <tr>\n",
       "      <th>9</th>\n",
       "      <td>24644</td>\n",
       "      <td>40705</td>\n",
       "    </tr>\n",
       "    <tr>\n",
       "      <th>10</th>\n",
       "      <td>25634</td>\n",
       "      <td>40149</td>\n",
       "    </tr>\n",
       "    <tr>\n",
       "      <th>11</th>\n",
       "      <td>26965</td>\n",
       "      <td>40812</td>\n",
       "    </tr>\n",
       "    <tr>\n",
       "      <th>12</th>\n",
       "      <td>27940</td>\n",
       "      <td>40974</td>\n",
       "    </tr>\n",
       "    <tr>\n",
       "      <th>13</th>\n",
       "      <td>28559</td>\n",
       "      <td>41710</td>\n",
       "    </tr>\n",
       "    <tr>\n",
       "      <th>14</th>\n",
       "      <td>27402</td>\n",
       "      <td>42259</td>\n",
       "    </tr>\n",
       "    <tr>\n",
       "      <th>15</th>\n",
       "      <td>26772</td>\n",
       "      <td>43133</td>\n",
       "    </tr>\n",
       "    <tr>\n",
       "      <th>16</th>\n",
       "      <td>27047</td>\n",
       "      <td>44282</td>\n",
       "    </tr>\n",
       "    <tr>\n",
       "      <th>17</th>\n",
       "      <td>26331</td>\n",
       "      <td>50264</td>\n",
       "    </tr>\n",
       "    <tr>\n",
       "      <th>18</th>\n",
       "      <td>22936</td>\n",
       "      <td>48180</td>\n",
       "    </tr>\n",
       "    <tr>\n",
       "      <th>19</th>\n",
       "      <td>17270</td>\n",
       "      <td>40394</td>\n",
       "    </tr>\n",
       "    <tr>\n",
       "      <th>20</th>\n",
       "      <td>11371</td>\n",
       "      <td>25814</td>\n",
       "    </tr>\n",
       "    <tr>\n",
       "      <th>21</th>\n",
       "      <td>6845</td>\n",
       "      <td>16603</td>\n",
       "    </tr>\n",
       "    <tr>\n",
       "      <th>22</th>\n",
       "      <td>3937</td>\n",
       "      <td>10233</td>\n",
       "    </tr>\n",
       "    <tr>\n",
       "      <th>23</th>\n",
       "      <td>2695</td>\n",
       "      <td>7689</td>\n",
       "    </tr>\n",
       "  </tbody>\n",
       "</table>\n",
       "</div>"
      ],
      "text/plain": [
       "platform  desktop  touch\n",
       "_hour                   \n",
       "0            2396   7622\n",
       "1            3023   9617\n",
       "2            4224  13298\n",
       "3            6510  21406\n",
       "4            9863  30916\n",
       "5           14674  43227\n",
       "6           19423  46113\n",
       "7           21791  46573\n",
       "8           23314  40285\n",
       "9           24644  40705\n",
       "10          25634  40149\n",
       "11          26965  40812\n",
       "12          27940  40974\n",
       "13          28559  41710\n",
       "14          27402  42259\n",
       "15          26772  43133\n",
       "16          27047  44282\n",
       "17          26331  50264\n",
       "18          22936  48180\n",
       "19          17270  40394\n",
       "20          11371  25814\n",
       "21           6845  16603\n",
       "22           3937  10233\n",
       "23           2695   7689"
      ]
     },
     "execution_count": 78,
     "metadata": {},
     "output_type": "execute_result"
    }
   ],
   "source": [
    "hourly = df.groupby([\"platform\",\"_hour\"]).size().rename(\"count\").reset_index()\n",
    "hourly_pivot = hourly.pivot(index=\"_hour\", columns=\"platform\", values=\"count\").fillna(0)\n",
    "\n",
    "hourly_pivot.plot(figsize=(10,5), title=\"Почасовой трафик\")\n",
    "plt.xlabel(\"Час суток (0–23)\")\n",
    "plt.ylabel(\"Количество запросов\")\n",
    "plt.show()\n",
    "\n",
    "hourly_pivot"
   ]
  },
  {
   "cell_type": "markdown",
   "id": "2b5d7f07",
   "metadata": {},
   "source": [
    "### Шаг 7. Тематизация\n",
    "Назначаем тематику по ключевым словам, считаем доли тем по платформам и ищем отличия.\n"
   ]
  },
  {
   "cell_type": "code",
   "execution_count": 79,
   "id": "eb79bb4a",
   "metadata": {},
   "outputs": [],
   "source": [
    "themes = [\n",
    "    (\"video\", [\"ютуб\",\"youtube\",\"видео\",\"кино\",\"фильм\",\"сериал\",\"tv\",\"ivi\",\"okko\",\"netflix\",\"rutube\"]),\n",
    "    (\"social\", [\"vk\",\"вк\",\"instagram\",\"инстаграм\",\"telegram\",\"телеграм\",\"tiktok\",\"тик ток\",\"одноклассники\",\"facebook\",\"фейсбук\",\"twitter\"]),\n",
    "    (\"music\", [\"музыка\",\"песня\",\"spotify\",\"яндекс музыка\",\"music\",\"mp3\",\"шазам\"]),\n",
    "    (\"shopping\", [\"купить\",\"цена\",\"ozon\",\"озон\",\"wildberries\",\"алиэкспресс\",\"aliexpress\",\"market\",\"avito\"]),\n",
    "    (\"maps_nav\", [\"карта\",\"карты\",\"maps\",\"маршрут\",\"навигатор\",\"пробки\",\"яндекс карты\",\"google maps\"]),\n",
    "    (\"news\", [\"новости\",\"news\",\"lenta\",\"rbc\",\"рбк\",\"meduza\",\"газета\"]),\n",
    "    (\"games\", [\"игра\",\"игры\",\"game\",\"steam\",\"minecraft\",\"roblox\",\"dota\",\"csgo\",\"gta\",\"valorant\"]),\n",
    "    (\"education\", [\"википедия\",\"wiki\",\"реферат\",\"урок\",\"курс\",\"математика\",\"школа\",\"университет\"]),\n",
    "    (\"finance\", [\"банк\",\"сбер\",\"тинькофф\",\"альфа\",\"втб\",\"курс доллара\",\"биржа\"]),\n",
    "    (\"email\", [\"почта\",\"mail\",\"gmail\",\"яндекс почта\",\"mail.ru\"]),\n",
    "    (\"government\", [\"госуслуги\",\"налог\",\"штраф\",\"мфц\",\"пенсия\"]),\n",
    "    (\"sports\", [\"спорт\",\"матч\",\"футбол\",\"теннис\"]),\n",
    "    (\"health\", [\"здоровье\",\"симптом\",\"болит\",\"аптека\",\"лечение\",\"врач\"]),\n",
    "    (\"tech\", [\"скачать\",\"драйвер\",\"windows\",\"linux\",\"программа\",\"ошибка\",\"discord\"]),\n",
    "    (\"jobs\", [\"работа\",\"вакансия\",\"hh\",\"резюме\"]),\n",
    "    (\"food\", [\"рецепт\",\"доставка еды\",\"самокат\",\"яндекс еда\",\"еда\"]),\n",
    "    (\"travel\", [\"билет\",\"жд\",\"поезд\",\"самолет\",\"отель\",\"booking\",\"такси\",\"яндекс такси\"]),\n",
    "]"
   ]
  },
  {
   "cell_type": "code",
   "execution_count": 80,
   "id": "d4a02c6c",
   "metadata": {},
   "outputs": [],
   "source": [
    "kw2theme = [(kw,theme) for theme,kws in themes for kw in kws]\n",
    "kw2theme.sort(key=lambda x: len(x[0]), reverse=True)"
   ]
  },
  {
   "cell_type": "code",
   "execution_count": 81,
   "id": "fdad2b19",
   "metadata": {},
   "outputs": [],
   "source": [
    "def categorize_query(q: str) -> str:\n",
    "    t = q.lower()\n",
    "    for kw,theme in kw2theme:\n",
    "        if kw in t: return theme\n",
    "    return \"other\""
   ]
  },
  {
   "cell_type": "code",
   "execution_count": 82,
   "id": "4fd2310f",
   "metadata": {},
   "outputs": [],
   "source": [
    "df[\"_theme\"] = df[\"_query_lc\"].apply(categorize_query)"
   ]
  },
  {
   "cell_type": "code",
   "execution_count": 83,
   "id": "931a1852",
   "metadata": {},
   "outputs": [],
   "source": [
    "theme_counts = df.groupby([\"platform\",\"_theme\"]).size().rename(\"count\").reset_index()\n",
    "total_by_plat = theme_counts.groupby(\"platform\")[\"count\"].sum()\n",
    "theme_counts[\"share\"] = theme_counts.apply(lambda r: r[\"count\"]/total_by_plat.loc[r[\"platform\"]], axis=1)"
   ]
  },
  {
   "cell_type": "code",
   "execution_count": 84,
   "id": "49812161",
   "metadata": {},
   "outputs": [],
   "source": [
    "theme_pivot = theme_counts.pivot(index=\"_theme\", columns=\"platform\", values=\"share\").fillna(0)\n",
    "theme_pivot[\"diff\"] = theme_pivot[\"touch\"] - theme_pivot[\"desktop\"]\n",
    "theme_pivot[\"abs_diff\"] = theme_pivot[\"diff\"].abs()"
   ]
  },
  {
   "cell_type": "code",
   "execution_count": 85,
   "id": "12677b07",
   "metadata": {},
   "outputs": [
    {
     "data": {
      "text/html": [
       "<div>\n",
       "<style scoped>\n",
       "    .dataframe tbody tr th:only-of-type {\n",
       "        vertical-align: middle;\n",
       "    }\n",
       "\n",
       "    .dataframe tbody tr th {\n",
       "        vertical-align: top;\n",
       "    }\n",
       "\n",
       "    .dataframe thead th {\n",
       "        text-align: right;\n",
       "    }\n",
       "</style>\n",
       "<table border=\"1\" class=\"dataframe\">\n",
       "  <thead>\n",
       "    <tr style=\"text-align: right;\">\n",
       "      <th>platform</th>\n",
       "      <th>desktop</th>\n",
       "      <th>touch</th>\n",
       "      <th>diff</th>\n",
       "      <th>abs_diff</th>\n",
       "    </tr>\n",
       "    <tr>\n",
       "      <th>_theme</th>\n",
       "      <th></th>\n",
       "      <th></th>\n",
       "      <th></th>\n",
       "      <th></th>\n",
       "    </tr>\n",
       "  </thead>\n",
       "  <tbody>\n",
       "    <tr>\n",
       "      <th>travel</th>\n",
       "      <td>0.021105</td>\n",
       "      <td>0.082299</td>\n",
       "      <td>0.061194</td>\n",
       "      <td>0.061194</td>\n",
       "    </tr>\n",
       "    <tr>\n",
       "      <th>other</th>\n",
       "      <td>0.913846</td>\n",
       "      <td>0.876959</td>\n",
       "      <td>-0.036887</td>\n",
       "      <td>0.036887</td>\n",
       "    </tr>\n",
       "    <tr>\n",
       "      <th>social</th>\n",
       "      <td>0.016753</td>\n",
       "      <td>0.008276</td>\n",
       "      <td>-0.008477</td>\n",
       "      <td>0.008477</td>\n",
       "    </tr>\n",
       "    <tr>\n",
       "      <th>maps_nav</th>\n",
       "      <td>0.016746</td>\n",
       "      <td>0.013118</td>\n",
       "      <td>-0.003628</td>\n",
       "      <td>0.003628</td>\n",
       "    </tr>\n",
       "    <tr>\n",
       "      <th>games</th>\n",
       "      <td>0.004449</td>\n",
       "      <td>0.001357</td>\n",
       "      <td>-0.003092</td>\n",
       "      <td>0.003092</td>\n",
       "    </tr>\n",
       "    <tr>\n",
       "      <th>education</th>\n",
       "      <td>0.004466</td>\n",
       "      <td>0.001460</td>\n",
       "      <td>-0.003005</td>\n",
       "      <td>0.003005</td>\n",
       "    </tr>\n",
       "    <tr>\n",
       "      <th>video</th>\n",
       "      <td>0.008545</td>\n",
       "      <td>0.006507</td>\n",
       "      <td>-0.002039</td>\n",
       "      <td>0.002039</td>\n",
       "    </tr>\n",
       "    <tr>\n",
       "      <th>email</th>\n",
       "      <td>0.001917</td>\n",
       "      <td>0.000212</td>\n",
       "      <td>-0.001705</td>\n",
       "      <td>0.001705</td>\n",
       "    </tr>\n",
       "    <tr>\n",
       "      <th>sports</th>\n",
       "      <td>0.003730</td>\n",
       "      <td>0.002801</td>\n",
       "      <td>-0.000929</td>\n",
       "      <td>0.000929</td>\n",
       "    </tr>\n",
       "    <tr>\n",
       "      <th>jobs</th>\n",
       "      <td>0.001331</td>\n",
       "      <td>0.000446</td>\n",
       "      <td>-0.000886</td>\n",
       "      <td>0.000886</td>\n",
       "    </tr>\n",
       "  </tbody>\n",
       "</table>\n",
       "</div>"
      ],
      "text/plain": [
       "platform    desktop     touch      diff  abs_diff\n",
       "_theme                                           \n",
       "travel     0.021105  0.082299  0.061194  0.061194\n",
       "other      0.913846  0.876959 -0.036887  0.036887\n",
       "social     0.016753  0.008276 -0.008477  0.008477\n",
       "maps_nav   0.016746  0.013118 -0.003628  0.003628\n",
       "games      0.004449  0.001357 -0.003092  0.003092\n",
       "education  0.004466  0.001460 -0.003005  0.003005\n",
       "video      0.008545  0.006507 -0.002039  0.002039\n",
       "email      0.001917  0.000212 -0.001705  0.001705\n",
       "sports     0.003730  0.002801 -0.000929  0.000929\n",
       "jobs       0.001331  0.000446 -0.000886  0.000886"
      ]
     },
     "execution_count": 85,
     "metadata": {},
     "output_type": "execute_result"
    }
   ],
   "source": [
    "theme_pivot.sort_values(\"abs_diff\", ascending=False).head(10)"
   ]
  },
  {
   "cell_type": "markdown",
   "id": "cb5f94a7",
   "metadata": {},
   "source": [
    "##  Итоги анализа\n",
    "\n",
    "1. **Диапазон данных:** с 31.08.2021 по 21.09.2021.  \n",
    "2. **Запросы «ютуб»:**  \n",
    "   - desktop — 806  \n",
    "   - touch — 732  \n",
    "3. **ТОП-10:**  \n",
    "   - Desktop: утилитарные и учебные запросы (календарь, таблицы, алфавит, картинки, обои).  \n",
    "   - Touch: поздравления («с днём рождения …»), развлекательные и взрослые запросы.  \n",
    "4. **Почасовой трафик:**  \n",
    "   - Desktop активнее днём, пик в районе **13:00**.  \n",
    "   - Touch активнее вечером, пик в районе **17:00**.  \n",
    "5. **Тематики:**  \n",
    "   - Travel заметно выше на touch (поиск билетов, такси).  \n",
    "   - Desktop чаще используется для social, education, games.  \n",
    "   - Большая доля попала в категорию *other* — это запросы, не покрытые словарём тематик.\n",
    "\n",
    "---\n",
    "\n",
    "Общий вывод: **desktop используется больше для учёбы и работы**,  \n",
    "а **touch — для развлечений, общения и практических задач (поездки, поздравления, видео)**.\n"
   ]
  }
 ],
 "metadata": {
  "kernelspec": {
   "display_name": "Python 3",
   "language": "python",
   "name": "python3"
  },
  "language_info": {
   "codemirror_mode": {
    "name": "ipython",
    "version": 3
   },
   "file_extension": ".py",
   "mimetype": "text/x-python",
   "name": "python",
   "nbconvert_exporter": "python",
   "pygments_lexer": "ipython3",
   "version": "3.13.5"
  }
 },
 "nbformat": 4,
 "nbformat_minor": 5
}
